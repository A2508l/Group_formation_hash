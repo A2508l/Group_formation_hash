{
 "cells": [
  {
   "cell_type": "code",
   "execution_count": 74,
   "source": [
    "import pandas as pd\r\n",
    "import random\r\n",
    "import math\r\n",
    "df = pd.DataFrame(pd.read_csv('C:\\\\Users\\\\KIIT\\\\Desktop\\\\New_folder\\\\src\\\\scripts\\\\roll_group.csv'))\r\n",
    "total_students = (df.shape[0])\r\n",
    "print(\"total students are : \",df.shape[0])\r\n",
    "max_limit=8\r\n",
    "\r\n",
    "\r\n",
    "def cal_group(num):  \r\n",
    "    return math.ceil(num/8)\r\n",
    "\r\n",
    "print(\"No of groups: \", cal_group(total_students))\r\n",
    "groups = cal_group(total_students)\r\n",
    "\r\n",
    "\r\n",
    "def fold_hash(num):\r\n",
    "    temp = num\r\n",
    "    sum=0\r\n",
    "    while(temp):\r\n",
    "        sum = sum + (temp%100)\r\n",
    "        temp = (temp//100)\r\n",
    "    index = sum%groups\r\n",
    "    return index\r\n",
    "\r\n",
    "def mid_sq_hash(num):\r\n",
    "    if(num>9999999):\r\n",
    "        flag = (num%1000)//10\r\n",
    "        temp = (flag//10)+(flag%10)\r\n",
    "    else:\r\n",
    "        temp = (num%100)//10\r\n",
    "    index = (temp*temp)%groups\r\n",
    "    return index\r\n",
    "\r\n",
    "def digit_extraction_hash(num):\r\n",
    "    temp = 0\r\n",
    "    while(num):\r\n",
    "        temp = 10*temp + (num%100)//10\r\n",
    "        num = num//100\r\n",
    "    index = temp%groups\r\n",
    "    return index\r\n",
    "\r\n",
    "def custom_hash(num):\r\n",
    "    index = ((num%100) + ((num//100)%100) * ((num//10000)%100) - ((num//1000000)%100))%groups\r\n",
    "    return index\r\n",
    "\r\n",
    "\r\n",
    "final_group = []\r\n",
    "for i in range(groups):\r\n",
    "    final_group.append([])\r\n",
    "print(\"total groups formed : \", len(final_group))\r\n",
    "\r\n",
    "for i in range(total_students):\r\n",
    "    n = random.randint(0,1000)%4\r\n",
    "    if(n==0):\r\n",
    "        index = fold_hash(df.iloc[i]['roll_no'])\r\n",
    "    elif(n==1):\r\n",
    "        index = mid_sq_hash(df.iloc[i]['roll_no'])\r\n",
    "    elif(n==2):\r\n",
    "        index = digit_extraction_hash(df.iloc[i]['roll_no'])\r\n",
    "    else:\r\n",
    "        index = custom_hash(df.iloc[i]['roll_no'])\r\n",
    "    # print(len(final_group[index]))\r\n",
    "\r\n",
    "    #Chaining\r\n",
    "    while(len(final_group[index]) == max_limit):\r\n",
    "        if (index == groups-1):\r\n",
    "            index=0\r\n",
    "        else:    \r\n",
    "            index = index + 1\r\n",
    "    final_group[index].append(df.iloc[i]['roll_no'])\r\n",
    "\r\n",
    "#Sorting final_group according to length of elements\r\n",
    "#Poping the shortest group\r\n",
    "#Adding the values of the poped group to the groups that have less than max_limits\r\n",
    "#If more elements left in poped elemennt then add then one by one to each group\r\n",
    "final_group.sort(key=len)\r\n",
    "if(len(final_group[0])<7):\r\n",
    "    distribute = [] \r\n",
    "    distribute = final_group[0]\r\n",
    "    final_group.pop(0)\r\n",
    "    print(\"Poped: \",distribute)\r\n",
    "    i=0\r\n",
    "    while (distribute and len(final_group[i])<8):\r\n",
    "        final_group[i].append(distribute[0])\r\n",
    "        distribute.pop(0)\r\n",
    "        if(i!=(len(final_group)-1) and len(final_group[i])==8):\r\n",
    "            i=i+1\r\n",
    "    i=0\r\n",
    "    while(distribute):\r\n",
    "        final_group[i].append(distribute[0])\r\n",
    "        distribute.pop(0)\r\n",
    "        i=i+1\r\n",
    "\r\n",
    "print(final_group)\r\n"
   ],
   "outputs": [
    {
     "output_type": "stream",
     "name": "stdout",
     "text": [
      "total students are :  98\n",
      "No of groups:  13\n",
      "total groups formed :  13\n",
      "Poped:  [1905135, 1905174, 1905186]\n",
      "[[1905108, 1905134, 1905147, 1905173, 1905194, 1905196, 1905197, 1905135, 1905174], [1905103, 1905106, 1905154, 1905156, 1905158, 1905161, 1905163, 1905164, 1905186], [1905114, 1905115, 1905119, 1905127, 1905141, 1905144, 1905145, 1905165], [1905116, 1905129, 1905132, 1905133, 1905155, 1905166, 1905177, 1905180], [1905104, 1905125, 1905128, 1905140, 1905142, 1905143, 1905146, 1905168], [1905105, 1905110, 1905113, 1905117, 1905120, 1905121, 1905122, 1905123], [1905101, 1905102, 1905118, 1905157, 1905170, 1905181, 1905182, 1905183], [1905107, 1905159, 1905172, 1905184, 1905187, 1905190, 1905191, 1905193], [1905109, 1905130, 1905131, 1905136, 1905138, 1905148, 1905192, 1905195], [1905111, 1905124, 1905149, 1905160, 1905162, 1905167, 1905169, 1905175], [1905137, 1905171, 1905176, 1905178, 1905179, 1905185, 1905188, 1905189], [1905100, 1905112, 1905126, 1905139, 1905150, 1905151, 1905152, 1905153]]\n"
     ]
    }
   ],
   "metadata": {}
  },
  {
   "cell_type": "code",
   "execution_count": 75,
   "source": [],
   "outputs": [
    {
     "output_type": "stream",
     "name": "stdout",
     "text": [
      "0\n",
      "1\n",
      "2\n",
      "3\n",
      "4\n",
      "5\n"
     ]
    }
   ],
   "metadata": {}
  }
 ],
 "metadata": {
  "orig_nbformat": 4,
  "language_info": {
   "name": "python",
   "version": "3.8.5",
   "mimetype": "text/x-python",
   "codemirror_mode": {
    "name": "ipython",
    "version": 3
   },
   "pygments_lexer": "ipython3",
   "nbconvert_exporter": "python",
   "file_extension": ".py"
  },
  "kernelspec": {
   "name": "python3",
   "display_name": "Python 3.8.5 32-bit"
  },
  "interpreter": {
   "hash": "1280ea4c1d4c03035156b630bc43d754ca03d3f8512398d435a61d6f7f0ad20c"
  }
 },
 "nbformat": 4,
 "nbformat_minor": 2
}